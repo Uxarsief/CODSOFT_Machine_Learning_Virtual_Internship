{
 "cells": [
  {
   "cell_type": "markdown",
   "id": "e4f8dd6a-556c-4dbd-a75a-2c12e933685a",
   "metadata": {},
   "source": [
    "# MACHINE LEARNING INTERNSHIP @ CODE SOFT"
   ]
  },
  {
   "cell_type": "markdown",
   "id": "a7c3349a-2a0a-4a7a-b837-aabcd63fa490",
   "metadata": {},
   "source": [
    "## TASK 3 : Customer Churn Prediction "
   ]
  },
  {
   "cell_type": "markdown",
   "id": "5686bef1-34fb-4128-9932-5a853bae73f2",
   "metadata": {},
   "source": [
    "### The dataset is available at Kaggle : \n",
    "\n",
    "### https://www.kaggle.com/datasets/shantanudhakadd/bank-customer-churn-prediction"
   ]
  },
  {
   "cell_type": "markdown",
   "id": "5bfd057b-9376-44b6-96d5-b6aec09b0554",
   "metadata": {},
   "source": [
    "### We will start with exploring and preprocessing our data.\n",
    "1)Importing necessary libraries\n",
    "2)Loading the dataset and Exploring the dataset\n",
    "3)Preprocessing the data (handling missing values, encoding categorical variables, etc.)\n",
    "4)Feature engineering continued."
   ]
  },
  {
   "cell_type": "code",
   "execution_count": 1,
   "id": "6bbd1d9b-f674-4c66-a79a-31de1f01cb56",
   "metadata": {},
   "outputs": [],
   "source": [
    "# Step 1: Importing necessary libraries\n",
    "import pandas as pd\n",
    "import numpy as np\n",
    "import seaborn as sns\n",
    "import matplotlib.pyplot as plt\n",
    "from sklearn.model_selection import train_test_split\n",
    "from sklearn.preprocessing import StandardScaler, LabelEncoder"
   ]
  },
  {
   "cell_type": "code",
   "execution_count": 2,
   "id": "e6e9f741-9f4d-440c-8478-4cafa9931628",
   "metadata": {},
   "outputs": [
    {
     "data": {
      "text/html": [
       "<div>\n",
       "<style scoped>\n",
       "    .dataframe tbody tr th:only-of-type {\n",
       "        vertical-align: middle;\n",
       "    }\n",
       "\n",
       "    .dataframe tbody tr th {\n",
       "        vertical-align: top;\n",
       "    }\n",
       "\n",
       "    .dataframe thead th {\n",
       "        text-align: right;\n",
       "    }\n",
       "</style>\n",
       "<table border=\"1\" class=\"dataframe\">\n",
       "  <thead>\n",
       "    <tr style=\"text-align: right;\">\n",
       "      <th></th>\n",
       "      <th>RowNumber</th>\n",
       "      <th>CustomerId</th>\n",
       "      <th>Surname</th>\n",
       "      <th>CreditScore</th>\n",
       "      <th>Geography</th>\n",
       "      <th>Gender</th>\n",
       "      <th>Age</th>\n",
       "      <th>Tenure</th>\n",
       "      <th>Balance</th>\n",
       "      <th>NumOfProducts</th>\n",
       "      <th>HasCrCard</th>\n",
       "      <th>IsActiveMember</th>\n",
       "      <th>EstimatedSalary</th>\n",
       "      <th>Exited</th>\n",
       "    </tr>\n",
       "  </thead>\n",
       "  <tbody>\n",
       "    <tr>\n",
       "      <th>0</th>\n",
       "      <td>1</td>\n",
       "      <td>15634602</td>\n",
       "      <td>Hargrave</td>\n",
       "      <td>619</td>\n",
       "      <td>France</td>\n",
       "      <td>Female</td>\n",
       "      <td>42</td>\n",
       "      <td>2</td>\n",
       "      <td>0.00</td>\n",
       "      <td>1</td>\n",
       "      <td>1</td>\n",
       "      <td>1</td>\n",
       "      <td>101348.88</td>\n",
       "      <td>1</td>\n",
       "    </tr>\n",
       "    <tr>\n",
       "      <th>1</th>\n",
       "      <td>2</td>\n",
       "      <td>15647311</td>\n",
       "      <td>Hill</td>\n",
       "      <td>608</td>\n",
       "      <td>Spain</td>\n",
       "      <td>Female</td>\n",
       "      <td>41</td>\n",
       "      <td>1</td>\n",
       "      <td>83807.86</td>\n",
       "      <td>1</td>\n",
       "      <td>0</td>\n",
       "      <td>1</td>\n",
       "      <td>112542.58</td>\n",
       "      <td>0</td>\n",
       "    </tr>\n",
       "    <tr>\n",
       "      <th>2</th>\n",
       "      <td>3</td>\n",
       "      <td>15619304</td>\n",
       "      <td>Onio</td>\n",
       "      <td>502</td>\n",
       "      <td>France</td>\n",
       "      <td>Female</td>\n",
       "      <td>42</td>\n",
       "      <td>8</td>\n",
       "      <td>159660.80</td>\n",
       "      <td>3</td>\n",
       "      <td>1</td>\n",
       "      <td>0</td>\n",
       "      <td>113931.57</td>\n",
       "      <td>1</td>\n",
       "    </tr>\n",
       "    <tr>\n",
       "      <th>3</th>\n",
       "      <td>4</td>\n",
       "      <td>15701354</td>\n",
       "      <td>Boni</td>\n",
       "      <td>699</td>\n",
       "      <td>France</td>\n",
       "      <td>Female</td>\n",
       "      <td>39</td>\n",
       "      <td>1</td>\n",
       "      <td>0.00</td>\n",
       "      <td>2</td>\n",
       "      <td>0</td>\n",
       "      <td>0</td>\n",
       "      <td>93826.63</td>\n",
       "      <td>0</td>\n",
       "    </tr>\n",
       "    <tr>\n",
       "      <th>4</th>\n",
       "      <td>5</td>\n",
       "      <td>15737888</td>\n",
       "      <td>Mitchell</td>\n",
       "      <td>850</td>\n",
       "      <td>Spain</td>\n",
       "      <td>Female</td>\n",
       "      <td>43</td>\n",
       "      <td>2</td>\n",
       "      <td>125510.82</td>\n",
       "      <td>1</td>\n",
       "      <td>1</td>\n",
       "      <td>1</td>\n",
       "      <td>79084.10</td>\n",
       "      <td>0</td>\n",
       "    </tr>\n",
       "  </tbody>\n",
       "</table>\n",
       "</div>"
      ],
      "text/plain": [
       "   RowNumber  CustomerId   Surname  CreditScore Geography  Gender  Age  \\\n",
       "0          1    15634602  Hargrave          619    France  Female   42   \n",
       "1          2    15647311      Hill          608     Spain  Female   41   \n",
       "2          3    15619304      Onio          502    France  Female   42   \n",
       "3          4    15701354      Boni          699    France  Female   39   \n",
       "4          5    15737888  Mitchell          850     Spain  Female   43   \n",
       "\n",
       "   Tenure    Balance  NumOfProducts  HasCrCard  IsActiveMember  \\\n",
       "0       2       0.00              1          1               1   \n",
       "1       1   83807.86              1          0               1   \n",
       "2       8  159660.80              3          1               0   \n",
       "3       1       0.00              2          0               0   \n",
       "4       2  125510.82              1          1               1   \n",
       "\n",
       "   EstimatedSalary  Exited  \n",
       "0        101348.88       1  \n",
       "1        112542.58       0  \n",
       "2        113931.57       1  \n",
       "3         93826.63       0  \n",
       "4         79084.10       0  "
      ]
     },
     "execution_count": 2,
     "metadata": {},
     "output_type": "execute_result"
    }
   ],
   "source": [
    "# Step 2: Loading and Exploring the dataset\n",
    "df = pd.read_csv(\"Churn_Modelling.csv\")\n",
    "\n",
    "# Display the first few rows of the dataset\n",
    "df.head()"
   ]
  },
  {
   "cell_type": "code",
   "execution_count": 3,
   "id": "0a1c857c-a80e-47a4-b555-beb445805dc7",
   "metadata": {},
   "outputs": [
    {
     "data": {
      "text/plain": [
       "(RowNumber          0\n",
       " CustomerId         0\n",
       " Surname            0\n",
       " CreditScore        0\n",
       " Geography          0\n",
       " Gender             0\n",
       " Age                0\n",
       " Tenure             0\n",
       " Balance            0\n",
       " NumOfProducts      0\n",
       " HasCrCard          0\n",
       " IsActiveMember     0\n",
       " EstimatedSalary    0\n",
       " Exited             0\n",
       " dtype: int64,\n",
       " RowNumber            int64\n",
       " CustomerId           int64\n",
       " Surname             object\n",
       " CreditScore          int64\n",
       " Geography           object\n",
       " Gender              object\n",
       " Age                  int64\n",
       " Tenure               int64\n",
       " Balance            float64\n",
       " NumOfProducts        int64\n",
       " HasCrCard            int64\n",
       " IsActiveMember       int64\n",
       " EstimatedSalary    float64\n",
       " Exited               int64\n",
       " dtype: object,\n",
       " 0,\n",
       "          RowNumber    CustomerId   CreditScore           Age        Tenure  \\\n",
       " count  10000.00000  1.000000e+04  10000.000000  10000.000000  10000.000000   \n",
       " mean    5000.50000  1.569094e+07    650.528800     38.921800      5.012800   \n",
       " std     2886.89568  7.193619e+04     96.653299     10.487806      2.892174   \n",
       " min        1.00000  1.556570e+07    350.000000     18.000000      0.000000   \n",
       " 25%     2500.75000  1.562853e+07    584.000000     32.000000      3.000000   \n",
       " 50%     5000.50000  1.569074e+07    652.000000     37.000000      5.000000   \n",
       " 75%     7500.25000  1.575323e+07    718.000000     44.000000      7.000000   \n",
       " max    10000.00000  1.581569e+07    850.000000     92.000000     10.000000   \n",
       " \n",
       "              Balance  NumOfProducts    HasCrCard  IsActiveMember  \\\n",
       " count   10000.000000   10000.000000  10000.00000    10000.000000   \n",
       " mean    76485.889288       1.530200      0.70550        0.515100   \n",
       " std     62397.405202       0.581654      0.45584        0.499797   \n",
       " min         0.000000       1.000000      0.00000        0.000000   \n",
       " 25%         0.000000       1.000000      0.00000        0.000000   \n",
       " 50%     97198.540000       1.000000      1.00000        1.000000   \n",
       " 75%    127644.240000       2.000000      1.00000        1.000000   \n",
       " max    250898.090000       4.000000      1.00000        1.000000   \n",
       " \n",
       "        EstimatedSalary        Exited  \n",
       " count     10000.000000  10000.000000  \n",
       " mean     100090.239881      0.203700  \n",
       " std       57510.492818      0.402769  \n",
       " min          11.580000      0.000000  \n",
       " 25%       51002.110000      0.000000  \n",
       " 50%      100193.915000      0.000000  \n",
       " 75%      149388.247500      0.000000  \n",
       " max      199992.480000      1.000000  )"
      ]
     },
     "execution_count": 3,
     "metadata": {},
     "output_type": "execute_result"
    }
   ],
   "source": [
    "# Step 3: Preprocessing the data\n",
    "\n",
    "# Check for missing values\n",
    "missing_values = df.isnull().sum()\n",
    "\n",
    "# Check the data types of each column\n",
    "data_types = df.dtypes\n",
    "\n",
    "# Check for any duplicate rows\n",
    "duplicate_rows = df.duplicated().sum()\n",
    "\n",
    "# Summary statistics\n",
    "summary_stats = df.describe()\n",
    "\n",
    "# Display the results\n",
    "missing_values, data_types, duplicate_rows, summary_stats"
   ]
  },
  {
   "cell_type": "markdown",
   "id": "4668a92a-7f2a-473d-ba27-379a8ff3e266",
   "metadata": {},
   "source": [
    "BASED ON ABOVE \n",
    "Missing Values: The dataset does not contain any missing values, as indicated by the absence of non-zero values in the \"Missing values\" output.\n",
    "Data Types: The data types of each column are displayed. We can see that most columns are integers (int64), while some columns like \"Surname\", \"Geography\", and \"Gender\" are of type object, indicating categorical variables.\n",
    "Duplicate Rows: There are no duplicate rows in the dataset, as indicated by the count of 0 in the \"Number of duplicate rows\" output."
   ]
  },
  {
   "cell_type": "markdown",
   "id": "20b21f70-f26c-45f6-b393-1c066084d512",
   "metadata": {},
   "source": [
    "### NOW FEATURE ENGINEERING "
   ]
  },
  {
   "cell_type": "code",
   "execution_count": 4,
   "id": "44bcee1a-f888-41aa-b56a-eb80b3c62f39",
   "metadata": {},
   "outputs": [
    {
     "data": {
      "text/html": [
       "<div>\n",
       "<style scoped>\n",
       "    .dataframe tbody tr th:only-of-type {\n",
       "        vertical-align: middle;\n",
       "    }\n",
       "\n",
       "    .dataframe tbody tr th {\n",
       "        vertical-align: top;\n",
       "    }\n",
       "\n",
       "    .dataframe thead th {\n",
       "        text-align: right;\n",
       "    }\n",
       "</style>\n",
       "<table border=\"1\" class=\"dataframe\">\n",
       "  <thead>\n",
       "    <tr style=\"text-align: right;\">\n",
       "      <th></th>\n",
       "      <th>CreditScore</th>\n",
       "      <th>Age</th>\n",
       "      <th>Tenure</th>\n",
       "      <th>Balance</th>\n",
       "      <th>NumOfProducts</th>\n",
       "      <th>HasCrCard</th>\n",
       "      <th>IsActiveMember</th>\n",
       "      <th>EstimatedSalary</th>\n",
       "      <th>Exited</th>\n",
       "      <th>Geography_Germany</th>\n",
       "      <th>Geography_Spain</th>\n",
       "      <th>Gender_Male</th>\n",
       "    </tr>\n",
       "  </thead>\n",
       "  <tbody>\n",
       "    <tr>\n",
       "      <th>0</th>\n",
       "      <td>619</td>\n",
       "      <td>42</td>\n",
       "      <td>2</td>\n",
       "      <td>0.00</td>\n",
       "      <td>1</td>\n",
       "      <td>1</td>\n",
       "      <td>1</td>\n",
       "      <td>101348.88</td>\n",
       "      <td>1</td>\n",
       "      <td>False</td>\n",
       "      <td>False</td>\n",
       "      <td>False</td>\n",
       "    </tr>\n",
       "    <tr>\n",
       "      <th>1</th>\n",
       "      <td>608</td>\n",
       "      <td>41</td>\n",
       "      <td>1</td>\n",
       "      <td>83807.86</td>\n",
       "      <td>1</td>\n",
       "      <td>0</td>\n",
       "      <td>1</td>\n",
       "      <td>112542.58</td>\n",
       "      <td>0</td>\n",
       "      <td>False</td>\n",
       "      <td>True</td>\n",
       "      <td>False</td>\n",
       "    </tr>\n",
       "    <tr>\n",
       "      <th>2</th>\n",
       "      <td>502</td>\n",
       "      <td>42</td>\n",
       "      <td>8</td>\n",
       "      <td>159660.80</td>\n",
       "      <td>3</td>\n",
       "      <td>1</td>\n",
       "      <td>0</td>\n",
       "      <td>113931.57</td>\n",
       "      <td>1</td>\n",
       "      <td>False</td>\n",
       "      <td>False</td>\n",
       "      <td>False</td>\n",
       "    </tr>\n",
       "    <tr>\n",
       "      <th>3</th>\n",
       "      <td>699</td>\n",
       "      <td>39</td>\n",
       "      <td>1</td>\n",
       "      <td>0.00</td>\n",
       "      <td>2</td>\n",
       "      <td>0</td>\n",
       "      <td>0</td>\n",
       "      <td>93826.63</td>\n",
       "      <td>0</td>\n",
       "      <td>False</td>\n",
       "      <td>False</td>\n",
       "      <td>False</td>\n",
       "    </tr>\n",
       "    <tr>\n",
       "      <th>4</th>\n",
       "      <td>850</td>\n",
       "      <td>43</td>\n",
       "      <td>2</td>\n",
       "      <td>125510.82</td>\n",
       "      <td>1</td>\n",
       "      <td>1</td>\n",
       "      <td>1</td>\n",
       "      <td>79084.10</td>\n",
       "      <td>0</td>\n",
       "      <td>False</td>\n",
       "      <td>True</td>\n",
       "      <td>False</td>\n",
       "    </tr>\n",
       "  </tbody>\n",
       "</table>\n",
       "</div>"
      ],
      "text/plain": [
       "   CreditScore  Age  Tenure    Balance  NumOfProducts  HasCrCard  \\\n",
       "0          619   42       2       0.00              1          1   \n",
       "1          608   41       1   83807.86              1          0   \n",
       "2          502   42       8  159660.80              3          1   \n",
       "3          699   39       1       0.00              2          0   \n",
       "4          850   43       2  125510.82              1          1   \n",
       "\n",
       "   IsActiveMember  EstimatedSalary  Exited  Geography_Germany  \\\n",
       "0               1        101348.88       1              False   \n",
       "1               1        112542.58       0              False   \n",
       "2               0        113931.57       1              False   \n",
       "3               0         93826.63       0              False   \n",
       "4               1         79084.10       0              False   \n",
       "\n",
       "   Geography_Spain  Gender_Male  \n",
       "0            False        False  \n",
       "1             True        False  \n",
       "2            False        False  \n",
       "3            False        False  \n",
       "4             True        False  "
      ]
     },
     "execution_count": 4,
     "metadata": {},
     "output_type": "execute_result"
    }
   ],
   "source": [
    "# Step 4: Feature engineering\n",
    "# Encoding categorical variables\n",
    "df = pd.get_dummies(df, columns=['Geography', 'Gender'], drop_first=True)\n",
    "\n",
    "# Dropping unnecessary columns\n",
    "df.drop(columns=['RowNumber', 'CustomerId', 'Surname'], inplace=True)\n",
    "\n",
    "# Display the modified dataset\n",
    "df.head()"
   ]
  },
  {
   "cell_type": "markdown",
   "id": "591b2f8e-9a3d-4bab-b74b-45aa89e8956a",
   "metadata": {},
   "source": [
    "EXPLAINATION:\n",
    "Encoding Categorical Variables: We used one-hot encoding to convert the categorical variables \"Geography\" and \"Gender\" into binary columns. Each category in these columns is represented by a binary (0 or 1) indicator column. This encoding allows us to include categorical data in machine learning models effectively.\r\n",
    "\r\n",
    "Dropping Unnecessary Columns: We dropped the \"RowNumber\", \"CustomerId\", and \"Surname\" columns. These columns don't seem to provide any predictive power for the churn prediction task. \"RowNumber\" is simply an index, while \"CustomerId\" and \"Surname\" are identifiers that are unlikely to impact churn prediction."
   ]
  },
  {
   "cell_type": "raw",
   "id": "b1c2ba81-2299-4706-81da-7a8a4031a973",
   "metadata": {},
   "source": [
    "NOW MODEL TRAINING AND ACCURACY COMPARISION\n",
    "1)Split the dataset into features(X) and the target variable(y).\n",
    "2)Split the data into training and testing sets.\n",
    "3)Define a function to train and evaluate multiple models.\n",
    "4)Evaluate the models and compare their accuracy scores."
   ]
  },
  {
   "cell_type": "code",
   "execution_count": 5,
   "id": "2d8ef98d-f706-466b-99f9-fe1183f5e6e4",
   "metadata": {},
   "outputs": [],
   "source": [
    "# Step 1: Splitting the dataset\n",
    "X = df.drop(columns=['Exited'])\n",
    "y = df['Exited']"
   ]
  },
  {
   "cell_type": "code",
   "execution_count": 6,
   "id": "b5e8934a-5292-4351-897f-09ee5ec462bf",
   "metadata": {},
   "outputs": [],
   "source": [
    "# Step 2: Splitting the data into training and testing sets\n",
    "X_train, X_test, y_train, y_test = train_test_split(X, y, test_size=0.2, random_state=42)"
   ]
  },
  {
   "cell_type": "markdown",
   "id": "a7921c07-15d8-46eb-b517-a989e363e248",
   "metadata": {},
   "source": [
    "### We split the dataset into training and testing sets, with 80% of the data used for training and 20% for testing. We use a random state of 42 for reproducibility."
   ]
  },
  {
   "cell_type": "code",
   "execution_count": 7,
   "id": "303d03c7-6aa7-4e81-b4e1-7879ff7cfb78",
   "metadata": {},
   "outputs": [],
   "source": [
    "from sklearn.linear_model import LogisticRegression\n",
    "from sklearn.ensemble import RandomForestClassifier, GradientBoostingClassifier\n",
    "from sklearn.model_selection import cross_val_score\n",
    "\n",
    "# Step 3: Define a function to train and evaluate models\n",
    "def evaluate_models(models, X_train, y_train, cv=5):\n",
    "    results = {}\n",
    "    for name, model in models.items():\n",
    "        scores = cross_val_score(model, X_train, y_train, cv=cv, scoring='accuracy')\n",
    "        results[name] = scores.mean()\n",
    "    return results\n",
    "# Define the models to evaluate\n",
    "models = {\n",
    "    'Logistic Regression': LogisticRegression(),\n",
    "    'Random Forest': RandomForestClassifier(),\n",
    "    'Gradient Boosting': GradientBoostingClassifier()\n",
    "}"
   ]
  },
  {
   "cell_type": "markdown",
   "id": "fee95c26-85c0-4b00-8a3c-5eccb6ae5bb9",
   "metadata": {},
   "source": [
    "### Function to train and evaluate multiple models using cross-validation.\n",
    "### def evaluate_models(models, X_train, y_train, cv=5):\n",
    "    Args:\n",
    "    - models: A dictionary containing the models to evaluate.\n",
    "    - X_train: The features of the training set.\n",
    "    - y_train: The target variable of the training set.\n",
    "    - cv: Number of folds for cross-validation.\n",
    "    Returns:\n",
    "    - A dictionary containing the mean accuracy scores of each model."
   ]
  },
  {
   "cell_type": "code",
   "execution_count": 8,
   "id": "b96d1c23-454e-4207-b22f-cbf6657cd0eb",
   "metadata": {},
   "outputs": [
    {
     "data": {
      "text/plain": [
       "{'Logistic Regression': 0.787625,\n",
       " 'Random Forest': 0.861375,\n",
       " 'Gradient Boosting': 0.8616249999999999}"
      ]
     },
     "execution_count": 8,
     "metadata": {},
     "output_type": "execute_result"
    }
   ],
   "source": [
    "# Step 4: Evaluate the models\n",
    "model_results = evaluate_models(models, X_train, y_train)\n",
    "\n",
    "# Display the results\n",
    "model_results"
   ]
  },
  {
   "cell_type": "markdown",
   "id": "51d5a62c-9bf5-4e18-86b3-0755e209f7c6",
   "metadata": {},
   "source": [
    "- Since Gradient Boosting has shown slightly better accuracy, let's proceed with fine-tuning the parameters of the Gradient Boosting model to optimize its performance. We'll use GridSearchCV for hyperparameter tuning."
   ]
  },
  {
   "cell_type": "code",
   "execution_count": 9,
   "id": "de1c4a02-c8ed-47a4-a97e-356f8eaa49b2",
   "metadata": {},
   "outputs": [],
   "source": [
    "from sklearn.model_selection import GridSearchCV\n",
    "\n",
    "# Defining the Gradient Boosting model\n",
    "gb_model = GradientBoostingClassifier()"
   ]
  },
  {
   "cell_type": "code",
   "execution_count": 10,
   "id": "12a1c118-d2d1-423c-af56-29a78793e81d",
   "metadata": {},
   "outputs": [
    {
     "data": {
      "text/plain": [
       "{'learning_rate': 0.1, 'max_depth': 4, 'n_estimators': 150}"
      ]
     },
     "execution_count": 10,
     "metadata": {},
     "output_type": "execute_result"
    }
   ],
   "source": [
    "# Defining the hyperparameter grid for GridSearchCV\n",
    "param_grid = {\n",
    "    'n_estimators': [50, 100, 150],\n",
    "    'learning_rate': [0.05, 0.1, 0.2],\n",
    "    'max_depth': [3, 4, 5]\n",
    "}\n",
    "\n",
    "# Performing GridSearchCV\n",
    "grid_search = GridSearchCV(gb_model, param_grid, cv=5, scoring='accuracy', n_jobs=-1)\n",
    "grid_search.fit(X_train, y_train)\n",
    "\n",
    "# Displaying the best parameters\n",
    "best_params = grid_search.best_params_\n",
    "best_params"
   ]
  },
  {
   "cell_type": "markdown",
   "id": "95c6ab09-e60d-405a-9a55-e518e0db8ccc",
   "metadata": {},
   "source": [
    "### Now, let's proceed with the final evaluation of the tuned Gradient Boosting model on the test set to get an accurate estimate of its performance."
   ]
  },
  {
   "cell_type": "code",
   "execution_count": 11,
   "id": "bcac2d37-e946-44d9-9306-041febf9f427",
   "metadata": {},
   "outputs": [
    {
     "data": {
      "text/plain": [
       "0.8705"
      ]
     },
     "execution_count": 11,
     "metadata": {},
     "output_type": "execute_result"
    }
   ],
   "source": [
    "# Instantiating the Gradient Boosting model with the best parameters\n",
    "best_gb_model = GradientBoostingClassifier(**best_params)\n",
    "\n",
    "# Training the model on the training set\n",
    "best_gb_model.fit(X_train, y_train)\n",
    "\n",
    "# Evaluating the model on the test set\n",
    "test_accuracy = best_gb_model.score(X_test, y_test)\n",
    "test_accuracy"
   ]
  },
  {
   "cell_type": "markdown",
   "id": "9115bfac-db8e-43b5-8338-dce7fa164fe7",
   "metadata": {},
   "source": [
    "### The tuned Gradient Boosting model achieved an accuracy of 87% on the test set. This indicates that the model performs well in predicting customer churn for the given dataset."
   ]
  }
 ],
 "metadata": {
  "kernelspec": {
   "display_name": "Python 3 (ipykernel)",
   "language": "python",
   "name": "python3"
  },
  "language_info": {
   "codemirror_mode": {
    "name": "ipython",
    "version": 3
   },
   "file_extension": ".py",
   "mimetype": "text/x-python",
   "name": "python",
   "nbconvert_exporter": "python",
   "pygments_lexer": "ipython3",
   "version": "3.12.1"
  }
 },
 "nbformat": 4,
 "nbformat_minor": 5
}
